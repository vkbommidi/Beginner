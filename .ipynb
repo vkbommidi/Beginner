{
 "cells": [
  {
   "cell_type": "code",
   "execution_count": 1,
   "metadata": {},
   "outputs": [],
   "source": [
    "from IPython.display import clear_output\n",
    "def display_board(board):\n",
    "    '''Doc String: Printing the board'''\n",
    "    clear_output()\n",
    "    #printing out the board:\n",
    "    print(board[7],board[10],board[8],board[10],board[9])\n",
    "    print(board[11])\n",
    "    print(board[4],board[10],board[5],board[10],board[6])\n",
    "    print(board[11])\n",
    "    print(board[1],board[10],board[2],board[10],board[3])"
   ]
  },
  {
   "cell_type": "code",
   "execution_count": 2,
   "metadata": {},
   "outputs": [],
   "source": [
    "game_board = {1:' ',2:' ',3:' ',4:' ',5:' ',6:' ',7:' ',8:' ',9:' ',10:'|',11:'--|---|--'}"
   ]
  },
  {
   "cell_type": "code",
   "execution_count": 3,
   "metadata": {},
   "outputs": [
    {
     "name": "stdout",
     "output_type": "stream",
     "text": [
      "  |   |  \n",
      "--|---|--\n",
      "  |   |  \n",
      "--|---|--\n",
      "  |   |  \n"
     ]
    }
   ],
   "source": [
    "display_board(game_board)"
   ]
  },
  {
   "cell_type": "code",
   "execution_count": null,
   "metadata": {},
   "outputs": [],
   "source": []
  },
  {
   "cell_type": "code",
   "execution_count": 50,
   "metadata": {},
   "outputs": [],
   "source": [
    "test_board = {1:'x',2:'o',3:'x',4:'o',5:'x',6:'o',7:'x',8:'o',9:'x',10:'|',11:'--|---|--'}"
   ]
  },
  {
   "cell_type": "code",
   "execution_count": 51,
   "metadata": {},
   "outputs": [
    {
     "name": "stdout",
     "output_type": "stream",
     "text": [
      "x | o | x\n",
      "--|---|--\n",
      "o | x | o\n",
      "--|---|--\n",
      "x | o | x\n"
     ]
    }
   ],
   "source": [
    "display_board(test_board)"
   ]
  },
  {
   "cell_type": "code",
   "execution_count": 52,
   "metadata": {},
   "outputs": [],
   "source": [
    "#display_board() check ok.\n",
    "\n"
   ]
  },
  {
   "cell_type": "code",
   "execution_count": 53,
   "metadata": {},
   "outputs": [],
   "source": [
    "def player_input():\n",
    "    '''Doc String: Funtion to choose players marker'''\n",
    "    marker = ''\n",
    "    while marker!='x' and marker!='o':\n",
    "        marker=input('Player1 Choose eighter x or o',).lower()\n",
    "    if marker=='x':\n",
    "        return ('x','o')\n",
    "    else:\n",
    "        return ('o','x')"
   ]
  },
  {
   "cell_type": "code",
   "execution_count": 54,
   "metadata": {},
   "outputs": [
    {
     "name": "stdout",
     "output_type": "stream",
     "text": [
      "Player1 Choose eighter x or ox\n"
     ]
    },
    {
     "data": {
      "text/plain": [
       "('x', 'o')"
      ]
     },
     "execution_count": 54,
     "metadata": {},
     "output_type": "execute_result"
    }
   ],
   "source": [
    "player_input()"
   ]
  },
  {
   "cell_type": "code",
   "execution_count": 9,
   "metadata": {},
   "outputs": [
    {
     "name": "stdout",
     "output_type": "stream",
     "text": [
      "Player1 Choose eighter x or ox\n"
     ]
    },
    {
     "data": {
      "text/plain": [
       "('x', 'o')"
      ]
     },
     "execution_count": 9,
     "metadata": {},
     "output_type": "execute_result"
    }
   ],
   "source": [
    "player_input()"
   ]
  },
  {
   "cell_type": "code",
   "execution_count": 10,
   "metadata": {},
   "outputs": [
    {
     "name": "stdout",
     "output_type": "stream",
     "text": [
      "Player1 Choose eighter x or ox\n"
     ]
    }
   ],
   "source": [
    "player1_marker,player2_marker=player_input()"
   ]
  },
  {
   "cell_type": "code",
   "execution_count": 11,
   "metadata": {},
   "outputs": [
    {
     "data": {
      "text/plain": [
       "'x'"
      ]
     },
     "execution_count": 11,
     "metadata": {},
     "output_type": "execute_result"
    }
   ],
   "source": [
    "player1_marker"
   ]
  },
  {
   "cell_type": "code",
   "execution_count": 12,
   "metadata": {},
   "outputs": [
    {
     "data": {
      "text/plain": [
       "'o'"
      ]
     },
     "execution_count": 12,
     "metadata": {},
     "output_type": "execute_result"
    }
   ],
   "source": [
    "player2_marker"
   ]
  },
  {
   "cell_type": "code",
   "execution_count": 13,
   "metadata": {},
   "outputs": [],
   "source": [
    "#player_input check ok"
   ]
  },
  {
   "cell_type": "code",
   "execution_count": 14,
   "metadata": {},
   "outputs": [],
   "source": [
    "def place_marker(board,position,marker):\n",
    "    board[position]=marker"
   ]
  },
  {
   "cell_type": "code",
   "execution_count": 15,
   "metadata": {},
   "outputs": [],
   "source": [
    "place_marker(test_board,4,player2_marker)"
   ]
  },
  {
   "cell_type": "code",
   "execution_count": 16,
   "metadata": {},
   "outputs": [
    {
     "name": "stdout",
     "output_type": "stream",
     "text": [
      "x | o | x\n",
      "--|---|--\n",
      "o | x | o\n",
      "--|---|--\n",
      "x | o | x\n"
     ]
    }
   ],
   "source": [
    "display_board(test_board)"
   ]
  },
  {
   "cell_type": "code",
   "execution_count": 17,
   "metadata": {},
   "outputs": [],
   "source": [
    "#place_marker() check ok.\n"
   ]
  },
  {
   "cell_type": "code",
   "execution_count": 55,
   "metadata": {},
   "outputs": [],
   "source": [
    "def win_check(board,marker):\n",
    "    return ((board[1]==board[2]==board[3]==marker) or (board[4]==board[5]==board[6]==marker) \n",
    "    or (board[7]==board[8]==board[9]==marker) or (board[1]==board[4]==board[7]==marker)\n",
    "    or (board[2]==board[5]==board[8]==marker) or (board[3]==board[6]==board[9]==marker) \n",
    "    or (board[1]==board[5]==board[9]==marker) or (board[7]==board[5]==board[3]==marker))"
   ]
  },
  {
   "cell_type": "code",
   "execution_count": 56,
   "metadata": {},
   "outputs": [
    {
     "data": {
      "text/plain": [
       "True"
      ]
     },
     "execution_count": 56,
     "metadata": {},
     "output_type": "execute_result"
    }
   ],
   "source": [
    "test_board[1]==test_board[5]==test_board[9]=='x'"
   ]
  },
  {
   "cell_type": "code",
   "execution_count": 58,
   "metadata": {},
   "outputs": [
    {
     "data": {
      "text/plain": [
       "False"
      ]
     },
     "execution_count": 58,
     "metadata": {},
     "output_type": "execute_result"
    }
   ],
   "source": [
    "win_check(test_board,player2_marker)"
   ]
  },
  {
   "cell_type": "code",
   "execution_count": 21,
   "metadata": {},
   "outputs": [],
   "source": [
    "#win_check() check ok."
   ]
  },
  {
   "cell_type": "code",
   "execution_count": 22,
   "metadata": {},
   "outputs": [],
   "source": [
    "from random import randint\n",
    "def choose_first():\n",
    "    '''Doc String: Randomly selects which player goes first'''\n",
    "    if randint(0,1)==0:\n",
    "        return \"Player 2\"\n",
    "    else:\n",
    "        return \"Player 1\""
   ]
  },
  {
   "cell_type": "code",
   "execution_count": 23,
   "metadata": {},
   "outputs": [
    {
     "data": {
      "text/plain": [
       "'Player 1'"
      ]
     },
     "execution_count": 23,
     "metadata": {},
     "output_type": "execute_result"
    }
   ],
   "source": [
    "choose_first()"
   ]
  },
  {
   "cell_type": "code",
   "execution_count": 24,
   "metadata": {},
   "outputs": [
    {
     "data": {
      "text/plain": [
       "'Player 1'"
      ]
     },
     "execution_count": 24,
     "metadata": {},
     "output_type": "execute_result"
    }
   ],
   "source": [
    "choose_first()"
   ]
  },
  {
   "cell_type": "code",
   "execution_count": 25,
   "metadata": {},
   "outputs": [],
   "source": [
    "#choose_first() check ok."
   ]
  },
  {
   "cell_type": "code",
   "execution_count": 26,
   "metadata": {},
   "outputs": [],
   "source": [
    "def space_check(board, position):\n",
    "    return board[position]==' '"
   ]
  },
  {
   "cell_type": "code",
   "execution_count": 27,
   "metadata": {},
   "outputs": [],
   "source": [
    "test_board[5]=' '"
   ]
  },
  {
   "cell_type": "code",
   "execution_count": 28,
   "metadata": {},
   "outputs": [
    {
     "name": "stdout",
     "output_type": "stream",
     "text": [
      "x | o | x\n",
      "--|---|--\n",
      "o |   | o\n",
      "--|---|--\n",
      "x | o | x\n"
     ]
    }
   ],
   "source": [
    "display_board(test_board)"
   ]
  },
  {
   "cell_type": "code",
   "execution_count": 29,
   "metadata": {},
   "outputs": [
    {
     "data": {
      "text/plain": [
       "True"
      ]
     },
     "execution_count": 29,
     "metadata": {},
     "output_type": "execute_result"
    }
   ],
   "source": [
    "space_check(test_board,5)"
   ]
  },
  {
   "cell_type": "code",
   "execution_count": 30,
   "metadata": {},
   "outputs": [],
   "source": [
    "def full_board_check(board):\n",
    "    for x in range(1,10):\n",
    "        if space_check(board,x):\n",
    "            return False\n",
    "    return True"
   ]
  },
  {
   "cell_type": "code",
   "execution_count": 31,
   "metadata": {},
   "outputs": [
    {
     "data": {
      "text/plain": [
       "False"
      ]
     },
     "execution_count": 31,
     "metadata": {},
     "output_type": "execute_result"
    }
   ],
   "source": [
    "full_board_check(test_board)"
   ]
  },
  {
   "cell_type": "code",
   "execution_count": 32,
   "metadata": {},
   "outputs": [],
   "source": [
    "#full_board_check() check ok."
   ]
  },
  {
   "cell_type": "code",
   "execution_count": 33,
   "metadata": {},
   "outputs": [],
   "source": [
    "def player_choice(board):\n",
    "    position =0\n",
    "    while position not in [1,2,3,4,5,6,7,8,9] or not space_check(board,position):\n",
    "        position=int(input('Choose a position(1-9)',))\n",
    "    return position"
   ]
  },
  {
   "cell_type": "code",
   "execution_count": 34,
   "metadata": {},
   "outputs": [
    {
     "name": "stdout",
     "output_type": "stream",
     "text": [
      "Choose a position(1-9)1\n",
      "Choose a position(1-9)5\n"
     ]
    },
    {
     "data": {
      "text/plain": [
       "5"
      ]
     },
     "execution_count": 34,
     "metadata": {},
     "output_type": "execute_result"
    }
   ],
   "source": [
    "player_choice(test_board)"
   ]
  },
  {
   "cell_type": "code",
   "execution_count": 35,
   "metadata": {},
   "outputs": [],
   "source": [
    "#player_choice() check ok."
   ]
  },
  {
   "cell_type": "code",
   "execution_count": 36,
   "metadata": {},
   "outputs": [],
   "source": [
    "def replay():\n",
    "    return input('Do you want to play again:Enter yes or no',).lower().startswith('y')"
   ]
  },
  {
   "cell_type": "code",
   "execution_count": 37,
   "metadata": {},
   "outputs": [
    {
     "name": "stdout",
     "output_type": "stream",
     "text": [
      "Do you want to play again:Enter yes or noy\n"
     ]
    },
    {
     "data": {
      "text/plain": [
       "True"
      ]
     },
     "execution_count": 37,
     "metadata": {},
     "output_type": "execute_result"
    }
   ],
   "source": [
    "replay()\n"
   ]
  },
  {
   "cell_type": "raw",
   "metadata": {},
   "source": []
  },
  {
   "cell_type": "code",
   "execution_count": 38,
   "metadata": {},
   "outputs": [
    {
     "name": "stdout",
     "output_type": "stream",
     "text": [
      "Do you want to play again:Enter yes or non\n"
     ]
    },
    {
     "data": {
      "text/plain": [
       "False"
      ]
     },
     "execution_count": 38,
     "metadata": {},
     "output_type": "execute_result"
    }
   ],
   "source": [
    "replay()\n"
   ]
  },
  {
   "cell_type": "code",
   "execution_count": 39,
   "metadata": {},
   "outputs": [],
   "source": [
    "#reply() check ok."
   ]
  },
  {
   "cell_type": "code",
   "execution_count": 60,
   "metadata": {},
   "outputs": [
    {
     "name": "stdout",
     "output_type": "stream",
     "text": [
      "x | o | o\n",
      "--|---|--\n",
      "x | o | x\n",
      "--|---|--\n",
      "o | x | o\n",
      "Player 1 won the game\n",
      "Do you want to play again:Enter yes or non\n"
     ]
    }
   ],
   "source": [
    "print('Welcome to Tic Tac Toe!')\n",
    "\n",
    "while True:\n",
    "    \n",
    "    #Defined an empty board to start game\n",
    "    game_on_board = {1:' ',2:' ',3:' ',4:' ',5:' ',6:' ',7:' ',8:' ',9:' ',10:'|',11:'--|---|--'}\n",
    "\n",
    "    #Displaying the empty board to players\n",
    "    display_board(game_on_board)\n",
    "\n",
    "    #Player 1 is asked to choose a marker\n",
    "    player_1_marker,player_2_marker=player_input()\n",
    "\n",
    "    #Ramdomly selects which player goes first\n",
    "    player=choose_first()\n",
    "\n",
    "    print(f'{player} goes first')\n",
    "\n",
    "    #Ask player \"Are you ready\"\n",
    "    game_on = input('Are you ready to play: yes or no',)\n",
    "\n",
    "    #Game Start\n",
    "\n",
    "    while game_on.lower()[0] == 'y':\n",
    "            if player == \"Player 1\":\n",
    "                print(f'{player} turn')\n",
    "                place = player_choice(game_on_board)\n",
    "                place_marker(game_on_board,place,player_1_marker)\n",
    "                display_board(game_on_board)\n",
    "                if win_check(game_on_board,player_1_marker):\n",
    "                    print('Player 1 won the game')\n",
    "                    game_on='n'\n",
    "                elif full_board_check(game_on_board):\n",
    "                    print('The game is a tie')\n",
    "                    game_on='n'\n",
    "                player='Player 2'\n",
    "            else:\n",
    "                print(f'{player} turn')\n",
    "                place = player_choice(game_on_board)\n",
    "                place_marker(game_on_board,place,player_2_marker)\n",
    "                display_board(game_on_board)\n",
    "                if win_check(game_on_board,player_2_marker):\n",
    "                    print(f'{player} won the game')\n",
    "                    game_on='n'\n",
    "                elif full_board_check(game_on_board):\n",
    "                    print('The game is a tie')\n",
    "                    game_on='n'\n",
    "                player='Player 1'\n",
    "    if not replay():\n",
    "        break\n",
    "    "
   ]
  },
  {
   "cell_type": "code",
   "execution_count": null,
   "metadata": {},
   "outputs": [],
   "source": []
  },
  {
   "cell_type": "code",
   "execution_count": null,
   "metadata": {},
   "outputs": [],
   "source": []
  }
 ],
 "metadata": {
  "kernelspec": {
   "display_name": "Python 3",
   "language": "python",
   "name": "python3"
  },
  "language_info": {
   "codemirror_mode": {
    "name": "ipython",
    "version": 3
   },
   "file_extension": ".py",
   "mimetype": "text/x-python",
   "name": "python",
   "nbconvert_exporter": "python",
   "pygments_lexer": "ipython3",
   "version": "3.7.3"
  }
 },
 "nbformat": 4,
 "nbformat_minor": 2
}
