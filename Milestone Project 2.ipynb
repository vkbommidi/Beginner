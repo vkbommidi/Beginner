{
 "cells": [
  {
   "cell_type": "code",
   "execution_count": 1,
   "metadata": {},
   "outputs": [],
   "source": [
    "#Black jack game with own knowledge of object oriented programing"
   ]
  },
  {
   "cell_type": "code",
   "execution_count": 2,
   "metadata": {},
   "outputs": [],
   "source": [
    "import random"
   ]
  },
  {
   "cell_type": "code",
   "execution_count": 16,
   "metadata": {},
   "outputs": [],
   "source": [
    "class CardsDeck():\n",
    "    def __init__(self,deck,place,value):\n",
    "        self.deck=deck\n",
    "        self.place=place\n",
    "        self.value=value\n",
    "        \n",
    "    def card_shuffle(self):\n",
    "        '''To shuffle the deck cards'''\n",
    "        random.shuffle(self.deck)\n",
    "    \n",
    "    def card_split(self):\n",
    "        '''To split the cards deck as per player'''\n",
    "        x=0\n",
    "        while x not in range(10,53):\n",
    "            x =int(input('Player enter a value between 10 and 52 to split the deck',)) \n",
    "        self.deck=self.deck[0:x]\n",
    "        \n",
    "    def card(self,z):\n",
    "        return self.place[self.deck[z]]\n",
    "    \n",
    "    def card_value(self,y):\n",
    "        return self.value[self.place[self.deck[y]]]\n",
    "    \n",
    "    def card_value2(self,y2):\n",
    "        if 'a' in self.card(y2):\n",
    "            return (self.value[self.place[self.deck[y2]]]+10)\n",
    "        else:\n",
    "            return self.value[self.place[self.deck[y2]]]"
   ]
  },
  {
   "cell_type": "code",
   "execution_count": 17,
   "metadata": {},
   "outputs": [],
   "source": [
    "class Account():\n",
    "    def __init__(self,balance):\n",
    "        self.balance=balance\n",
    "        \n",
    "    def player_bet(self):\n",
    "        '''Player to choose an amount to bet'''\n",
    "        print(f\"The player's balance amount is {self.balance}\")\n",
    "        bet=self.balance+1000\n",
    "        while bet>self.balance:\n",
    "            bet=int(input('Enter an amount less than balance =',))\n",
    "        return bet\n",
    "    \n",
    "    def player_balance(self,bet_amount):\n",
    "        '''Player balance after the game'''\n",
    "        if game == 'player':\n",
    "            self.balance+=2*bet_amount\n",
    "        else:\n",
    "            self.balance-=bet_amount\n",
    "        return self.balance"
   ]
  },
  {
   "cell_type": "code",
   "execution_count": 18,
   "metadata": {},
   "outputs": [],
   "source": [
    "#Programme for game"
   ]
  },
  {
   "cell_type": "code",
   "execution_count": 19,
   "metadata": {},
   "outputs": [],
   "source": [
    "#considering a standard deck of 52 cards with no jockers\n",
    "#A list of 52 numbers is created to use shuffle function to mix the cards"
   ]
  },
  {
   "cell_type": "code",
   "execution_count": 20,
   "metadata": {},
   "outputs": [],
   "source": [
    "cards_set=[x for x in range(1,53)]"
   ]
  },
  {
   "cell_type": "code",
   "execution_count": 21,
   "metadata": {},
   "outputs": [],
   "source": [
    "#The above 52 numbers are assigned to each card using a dictionary\n",
    "#h-hearts,d-dimonds,c-clubs,s-spades"
   ]
  },
  {
   "cell_type": "code",
   "execution_count": 22,
   "metadata": {},
   "outputs": [],
   "source": [
    "cards_place={1:'ha',2:'h2',3:'h3',4:'h4',5:'h5',6:'h6',7:'h7',8:'h8',9:'h9',10:'h10',11:'hj',12:'hk',13:'hq',\\\n",
    "             14:'da',15:'d2',16:'d3',17:'d4',18:'d5',19:'d6',20:'d7',21:'d8',22:'d9',23:'d10',24:'dj',25:'dk',\\\n",
    "             26:'dq',27:'ca',28:'c2',29:'c3',30:'c4',31:'c5',32:'c6',33:'c7',34:'c8',35:'c9',36:'c10',37:'cj',\\\n",
    "             38:'ck',39:'cq',40:'sa',41:'s2',42:'s3',43:'s4',44:'s5',45:'s6',46:'s7',47:'s8',48:'s9',49:'s10',\\\n",
    "             50:'sj',51:'sk',52:'sq'}"
   ]
  },
  {
   "cell_type": "code",
   "execution_count": 23,
   "metadata": {},
   "outputs": [],
   "source": [
    "#The value of the cards is assigned using a dictonary\n",
    "#initially the value of A is considered as 1"
   ]
  },
  {
   "cell_type": "code",
   "execution_count": 24,
   "metadata": {},
   "outputs": [],
   "source": [
    "cards_value={'ha':1, 'h2':2, 'h3':3, 'h4':4, 'h5':5, 'h6':6, 'h7':7, 'h8':8, 'h9':9, 'h10':10, 'hj':10, 'hk':10, 'hq':10, \\\n",
    "             'da':1, 'd2':2, 'd3':3, 'd4':4, 'd5':5, 'd6':6, 'd7':7, 'd8':8, 'd9':9, 'd10':10, 'dj':10, 'dk':10, 'dq':10, \\\n",
    "             'ca':1, 'c2':2, 'c3':3, 'c4':4, 'c5':5, 'c6':6, 'c7':7, 'c8':8, 'c9':9, 'c10':10, 'cj':10, 'ck':10, 'cq':10, \\\n",
    "             'sa':1, 's2':2, 's3':3, 's4':4, 's5':5, 's6':6, 's7':7 , 's8':8, 's9':9, 's10':10, 'sj':10, 'sk':10, 'sq':10}"
   ]
  },
  {
   "cell_type": "code",
   "execution_count": 25,
   "metadata": {},
   "outputs": [],
   "source": [
    "#Standard Card Deck is Created\n",
    "game_cards=CardsDeck(cards_set,cards_place,cards_value)"
   ]
  },
  {
   "cell_type": "code",
   "execution_count": 31,
   "metadata": {},
   "outputs": [
    {
     "name": "stdout",
     "output_type": "stream",
     "text": [
      "Welcome to the Black Jack Game\n",
      "Are you ready to play? y or ny\n",
      "Dealer Shuffled the cards\n",
      "Player enter a value between 10 and 52 to split the deck35\n",
      "Dealer distributed the cards\n",
      "The player's cards are d7 and s4\n",
      "The player's count = 11\n",
      "Player, Do you want to hit(h) or stand(s)h\n",
      "Player new card is s8\n",
      "Player new count is 19\n",
      "Player, Do you want to hit(h) or stand(s)s\n",
      "The dealer's cards are c9 and c3\n",
      "The dealer's count = 15\n",
      "Player won the game\n"
     ]
    }
   ],
   "source": [
    "#Game Begins:\n",
    "print('Welcome to the Black Jack Game')\n",
    "\n",
    "#Step 1: Ask player for ready.\n",
    "if 'y' in (input('Are you ready to play? y or n',)).lower():\n",
    "    \n",
    "    #Step 2: Dealer shuffles the cards\n",
    "    print('Dealer Shuffled the cards')\n",
    "    game_cards.card_shuffle()\n",
    "    \n",
    "    #Step 3: Dealer asks the player to split the cards\n",
    "    game_cards.card_split()\n",
    "    \n",
    "    #Step 4: Dealer distributes the cards to player from split deck\n",
    "    print('Dealer distributed the cards')\n",
    "    \n",
    "    #Step 5: Player points count\n",
    "    print(f\"The player's cards are {game_cards.card(0)} and {game_cards.card(2)}\")\n",
    "    player_count=game_cards.card_value(0)+game_cards.card_value(2)\n",
    "    player_count2=game_cards.card_value2(0)+game_cards.card_value2(2)\n",
    "    print(f\"The player's count = {player_count}\" )\n",
    "    if player_count!=player_count2:\n",
    "        print(f\"player's count with A=10 is {player_count2}\")\n",
    "    dealer_count=game_cards.card_value(1)+game_cards.card_value(3)\n",
    "    \n",
    "    #Step 6: Player hit or stand:\n",
    "    player_place=2\n",
    "    dealer_place=3\n",
    "    while 'h' in input('Player, Do you want to hit(h) or stand(s)',):\n",
    "        player_place+=2\n",
    "        print(f'Player new card is {game_cards.card(player_place)}')\n",
    "        player_count+=game_cards.card_value(player_place)\n",
    "        print(f'Player new count is {player_count}')\n",
    "        dealer_count+=game_cards.card_value(dealer_place)\n",
    "        if player_count>21 and dealer_count>21:\n",
    "            print(\"Player and Dealer are Busted, Game is a tie\")\n",
    "            break\n",
    "        elif player_count>21:\n",
    "            print(\"Player is Busted\")\n",
    "            break\n",
    "        elif dealer_count>21:\n",
    "            print('dealer is busted')\n",
    "            break\n",
    "    else:\n",
    "        if player_count>dealer_count:\n",
    "            print(f\"The dealer's cards are {game_cards.card(1)} and {game_cards.card(3)}\")\n",
    "            print(f\"The dealer's count = {dealer_count}\" )\n",
    "            print(\"Player won the game\")\n",
    "        else:\n",
    "            print(f\"The dealer's cards are {game_cards.card(1)} and {game_cards.card(3)}\")\n",
    "            print(f\"The dealer's count = {dealer_count}\" )\n",
    "            print(\"Dealer won the game\")"
   ]
  },
  {
   "cell_type": "code",
   "execution_count": 13,
   "metadata": {},
   "outputs": [],
   "source": []
  },
  {
   "cell_type": "code",
   "execution_count": null,
   "metadata": {},
   "outputs": [],
   "source": []
  }
 ],
 "metadata": {
  "kernelspec": {
   "display_name": "Python 3",
   "language": "python",
   "name": "python3"
  },
  "language_info": {
   "codemirror_mode": {
    "name": "ipython",
    "version": 3
   },
   "file_extension": ".py",
   "mimetype": "text/x-python",
   "name": "python",
   "nbconvert_exporter": "python",
   "pygments_lexer": "ipython3",
   "version": "3.7.3"
  }
 },
 "nbformat": 4,
 "nbformat_minor": 2
}
